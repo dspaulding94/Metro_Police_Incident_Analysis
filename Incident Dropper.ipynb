{
 "cells": [
  {
   "cell_type": "markdown",
   "metadata": {},
   "source": [
    "## Imports"
   ]
  },
  {
   "cell_type": "code",
   "execution_count": 1,
   "metadata": {},
   "outputs": [],
   "source": [
    "import matplotlib.pyplot as plt\n",
    "import seaborn as sns\n",
    "import math\n",
    "import pandas as pd\n",
    "import geopandas as gpd\n",
    "import matplotlib.pyplot as plt\n",
    "import folium\n",
    "import datetime\n",
    "import pickle\n",
    "import calendar\n",
    "from folium.plugins import HeatMapWithTime\n",
    "import seaborn as sns\n",
    "import numpy as np\n",
    "import gmplot"
   ]
  },
  {
   "cell_type": "code",
   "execution_count": 2,
   "metadata": {},
   "outputs": [],
   "source": [
    "#set .head() to show all columns and rows if run\n",
    "\n",
    "pd.set_option('display.max_columns', None)\n",
    "pd.set_option('display.max_rows', None)"
   ]
  },
  {
   "cell_type": "markdown",
   "metadata": {},
   "source": [
    "# Load Data"
   ]
  },
  {
   "cell_type": "code",
   "execution_count": 3,
   "metadata": {},
   "outputs": [],
   "source": [
    "# Load file\n",
    "\n",
    "data = pd.read_csv('./data/df_2013_formatted_with_zip.csv')"
   ]
  },
  {
   "cell_type": "code",
   "execution_count": 4,
   "metadata": {},
   "outputs": [
    {
     "data": {
      "text/html": [
       "<div>\n",
       "<style scoped>\n",
       "    .dataframe tbody tr th:only-of-type {\n",
       "        vertical-align: middle;\n",
       "    }\n",
       "\n",
       "    .dataframe tbody tr th {\n",
       "        vertical-align: top;\n",
       "    }\n",
       "\n",
       "    .dataframe thead th {\n",
       "        text-align: right;\n",
       "    }\n",
       "</style>\n",
       "<table border=\"1\" class=\"dataframe\">\n",
       "  <thead>\n",
       "    <tr style=\"text-align: right;\">\n",
       "      <th></th>\n",
       "      <th>index_left</th>\n",
       "      <th>zip</th>\n",
       "      <th>event_num</th>\n",
       "      <th>call_re</th>\n",
       "      <th>comp_num</th>\n",
       "      <th>shift</th>\n",
       "      <th>tc</th>\n",
       "      <th>tc_desc</th>\n",
       "      <th>tc_suff</th>\n",
       "      <th>tc_suff_desc</th>\n",
       "      <th>disp_code</th>\n",
       "      <th>disp_desc</th>\n",
       "      <th>block</th>\n",
       "      <th>st_name</th>\n",
       "      <th>unit_disp</th>\n",
       "      <th>sect</th>\n",
       "      <th>zone</th>\n",
       "      <th>rpa</th>\n",
       "      <th>lat</th>\n",
       "      <th>Longitude</th>\n",
       "      <th>map_loc</th>\n",
       "      <th>month</th>\n",
       "      <th>day</th>\n",
       "      <th>geometry</th>\n",
       "    </tr>\n",
       "  </thead>\n",
       "  <tbody>\n",
       "    <tr>\n",
       "      <th>0</th>\n",
       "      <td>0.0</td>\n",
       "      <td>37115.0</td>\n",
       "      <td>PD201300025100</td>\n",
       "      <td>2013-01-07 12:15:00</td>\n",
       "      <td>20130018665</td>\n",
       "      <td>A</td>\n",
       "      <td>50</td>\n",
       "      <td>Theft</td>\n",
       "      <td>TV</td>\n",
       "      <td>NaN</td>\n",
       "      <td>1</td>\n",
       "      <td>M.P.D. REPORT COMPLED</td>\n",
       "      <td>500</td>\n",
       "      <td>STAR BLVD</td>\n",
       "      <td>723A</td>\n",
       "      <td>M</td>\n",
       "      <td>23.0</td>\n",
       "      <td>1739</td>\n",
       "      <td>36.288</td>\n",
       "      <td>-86.721</td>\n",
       "      <td>(36.288, -86.721)</td>\n",
       "      <td>1</td>\n",
       "      <td>7</td>\n",
       "      <td>POINT (-86.721 36.288)</td>\n",
       "    </tr>\n",
       "  </tbody>\n",
       "</table>\n",
       "</div>"
      ],
      "text/plain": [
       "   index_left      zip       event_num              call_re     comp_num  \\\n",
       "0         0.0  37115.0  PD201300025100  2013-01-07 12:15:00  20130018665   \n",
       "\n",
       "  shift  tc tc_desc tc_suff tc_suff_desc  disp_code              disp_desc  \\\n",
       "0     A  50   Theft      TV          NaN          1  M.P.D. REPORT COMPLED   \n",
       "\n",
       "   block     st_name unit_disp sect  zone   rpa     lat  Longitude  \\\n",
       "0    500  STAR BLVD       723A    M  23.0  1739  36.288    -86.721   \n",
       "\n",
       "             map_loc  month  day                geometry  \n",
       "0  (36.288, -86.721)      1    7  POINT (-86.721 36.288)  "
      ]
     },
     "execution_count": 4,
     "metadata": {},
     "output_type": "execute_result"
    }
   ],
   "source": [
    "data.head(1)"
   ]
  },
  {
   "cell_type": "code",
   "execution_count": 5,
   "metadata": {},
   "outputs": [
    {
     "data": {
      "text/plain": [
       "(1211710, 24)"
      ]
     },
     "execution_count": 5,
     "metadata": {},
     "output_type": "execute_result"
    }
   ],
   "source": [
    "data.shape"
   ]
  },
  {
   "cell_type": "markdown",
   "metadata": {},
   "source": [
    "# Formatting"
   ]
  },
  {
   "cell_type": "code",
   "execution_count": 6,
   "metadata": {},
   "outputs": [],
   "source": [
    "# Set event column to datetime\n",
    "\n",
    "#data['call_re'] = pd.to_datetime(data['call_re'])"
   ]
  },
  {
   "cell_type": "markdown",
   "metadata": {},
   "source": [
    "## Dropping Rows w/ Locations Outside of Tennessee"
   ]
  },
  {
   "cell_type": "code",
   "execution_count": 7,
   "metadata": {},
   "outputs": [],
   "source": [
    "# remove Sperry AR location seen in set\n",
    "\n",
    "new_df = data.drop(data[data['lat'] == 34.153].index)"
   ]
  },
  {
   "cell_type": "code",
   "execution_count": 8,
   "metadata": {},
   "outputs": [
    {
     "data": {
      "text/plain": [
       "(403444, 24)"
      ]
     },
     "execution_count": 8,
     "metadata": {},
     "output_type": "execute_result"
    }
   ],
   "source": [
    "new_df.shape"
   ]
  },
  {
   "cell_type": "code",
   "execution_count": 9,
   "metadata": {},
   "outputs": [],
   "source": [
    "#remove any default locations in set\n",
    "new_df = new_df.drop(data[data['lat'] == 0].index)"
   ]
  },
  {
   "cell_type": "code",
   "execution_count": 10,
   "metadata": {},
   "outputs": [
    {
     "data": {
      "text/plain": [
       "(403444, 24)"
      ]
     },
     "execution_count": 10,
     "metadata": {},
     "output_type": "execute_result"
    }
   ],
   "source": [
    "new_df.shape"
   ]
  },
  {
   "cell_type": "code",
   "execution_count": 11,
   "metadata": {},
   "outputs": [],
   "source": [
    "#remove any Atlantic Ocean locations in set\n",
    "new_df = new_df.drop(data[data['lat'] == -2.283].index)"
   ]
  },
  {
   "cell_type": "markdown",
   "metadata": {},
   "source": [
    "## Confirm Dataframe has been updated"
   ]
  },
  {
   "cell_type": "code",
   "execution_count": 12,
   "metadata": {},
   "outputs": [
    {
     "data": {
      "text/plain": [
       "(403444, 24)"
      ]
     },
     "execution_count": 12,
     "metadata": {},
     "output_type": "execute_result"
    }
   ],
   "source": [
    "new_df.shape"
   ]
  },
  {
   "cell_type": "code",
   "execution_count": 13,
   "metadata": {},
   "outputs": [],
   "source": [
    "new_df.to_csv('./data/df_2013_format_zip_in_TN')"
   ]
  },
  {
   "cell_type": "code",
   "execution_count": null,
   "metadata": {},
   "outputs": [],
   "source": []
  }
 ],
 "metadata": {
  "kernelspec": {
   "display_name": "Python 3",
   "language": "python",
   "name": "python3"
  },
  "language_info": {
   "codemirror_mode": {
    "name": "ipython",
    "version": 3
   },
   "file_extension": ".py",
   "mimetype": "text/x-python",
   "name": "python",
   "nbconvert_exporter": "python",
   "pygments_lexer": "ipython3",
   "version": "3.7.3"
  }
 },
 "nbformat": 4,
 "nbformat_minor": 2
}
