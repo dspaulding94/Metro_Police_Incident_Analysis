{
 "cells": [
  {
   "cell_type": "code",
   "execution_count": 4,
   "metadata": {},
   "outputs": [],
   "source": [
    "import matplotlib.pyplot as plt\n",
    "import seaborn as sns\n",
    "import math\n",
    "import pandas as pd\n",
    "import geopandas as gpd\n",
    "import matplotlib.pyplot as plt\n",
    "import folium\n",
    "import datetime\n",
    "import pickle\n",
    "import calendar\n",
    "from folium.plugins import HeatMapWithTime\n",
    "import seaborn as sns\n",
    "import numpy as np\n",
    "import gmplot\n"
   ]
  },
  {
   "cell_type": "code",
   "execution_count": 5,
   "metadata": {},
   "outputs": [],
   "source": [
    "#set .head() to show all columns and rows if run\n",
    "\n",
    "pd.set_option('display.max_columns', None)\n",
    "pd.set_option('display.max_rows', None)"
   ]
  },
  {
   "cell_type": "code",
   "execution_count": 6,
   "metadata": {},
   "outputs": [],
   "source": [
    "data = pd.read_csv('./data/pop-by-zip-code.csv')"
   ]
  },
  {
   "cell_type": "code",
   "execution_count": 7,
   "metadata": {},
   "outputs": [
    {
     "data": {
      "text/html": [
       "<div>\n",
       "<style scoped>\n",
       "    .dataframe tbody tr th:only-of-type {\n",
       "        vertical-align: middle;\n",
       "    }\n",
       "\n",
       "    .dataframe tbody tr th {\n",
       "        vertical-align: top;\n",
       "    }\n",
       "\n",
       "    .dataframe thead th {\n",
       "        text-align: right;\n",
       "    }\n",
       "</style>\n",
       "<table border=\"1\" class=\"dataframe\">\n",
       "  <thead>\n",
       "    <tr style=\"text-align: right;\">\n",
       "      <th></th>\n",
       "      <th>zip_code</th>\n",
       "      <th>y-2016</th>\n",
       "      <th>y-2015</th>\n",
       "      <th>y-2014</th>\n",
       "      <th>y-2013</th>\n",
       "      <th>y-2012</th>\n",
       "      <th>y-2011</th>\n",
       "      <th>y-2010</th>\n",
       "      <th>aggregate</th>\n",
       "    </tr>\n",
       "  </thead>\n",
       "  <tbody>\n",
       "    <tr>\n",
       "      <th>0</th>\n",
       "      <td>601</td>\n",
       "      <td>17800</td>\n",
       "      <td>17982</td>\n",
       "      <td>18088</td>\n",
       "      <td>18450</td>\n",
       "      <td>18544</td>\n",
       "      <td>18533</td>\n",
       "      <td>18570</td>\n",
       "      <td>127967</td>\n",
       "    </tr>\n",
       "    <tr>\n",
       "      <th>1</th>\n",
       "      <td>602</td>\n",
       "      <td>39716</td>\n",
       "      <td>40260</td>\n",
       "      <td>40859</td>\n",
       "      <td>41302</td>\n",
       "      <td>41640</td>\n",
       "      <td>41930</td>\n",
       "      <td>41520</td>\n",
       "      <td>287227</td>\n",
       "    </tr>\n",
       "    <tr>\n",
       "      <th>2</th>\n",
       "      <td>603</td>\n",
       "      <td>51565</td>\n",
       "      <td>52408</td>\n",
       "      <td>53162</td>\n",
       "      <td>53683</td>\n",
       "      <td>54540</td>\n",
       "      <td>54475</td>\n",
       "      <td>54689</td>\n",
       "      <td>374522</td>\n",
       "    </tr>\n",
       "    <tr>\n",
       "      <th>3</th>\n",
       "      <td>606</td>\n",
       "      <td>6320</td>\n",
       "      <td>6331</td>\n",
       "      <td>6415</td>\n",
       "      <td>6591</td>\n",
       "      <td>6593</td>\n",
       "      <td>6386</td>\n",
       "      <td>6615</td>\n",
       "      <td>45251</td>\n",
       "    </tr>\n",
       "    <tr>\n",
       "      <th>4</th>\n",
       "      <td>610</td>\n",
       "      <td>27976</td>\n",
       "      <td>28328</td>\n",
       "      <td>28805</td>\n",
       "      <td>28963</td>\n",
       "      <td>29141</td>\n",
       "      <td>29111</td>\n",
       "      <td>29016</td>\n",
       "      <td>201340</td>\n",
       "    </tr>\n",
       "  </tbody>\n",
       "</table>\n",
       "</div>"
      ],
      "text/plain": [
       "   zip_code  y-2016  y-2015  y-2014  y-2013  y-2012  y-2011  y-2010  aggregate\n",
       "0       601   17800   17982   18088   18450   18544   18533   18570     127967\n",
       "1       602   39716   40260   40859   41302   41640   41930   41520     287227\n",
       "2       603   51565   52408   53162   53683   54540   54475   54689     374522\n",
       "3       606    6320    6331    6415    6591    6593    6386    6615      45251\n",
       "4       610   27976   28328   28805   28963   29141   29111   29016     201340"
      ]
     },
     "execution_count": 7,
     "metadata": {},
     "output_type": "execute_result"
    }
   ],
   "source": [
    "data.head()"
   ]
  },
  {
   "cell_type": "code",
   "execution_count": 8,
   "metadata": {},
   "outputs": [
    {
     "data": {
      "text/html": [
       "<div>\n",
       "<style scoped>\n",
       "    .dataframe tbody tr th:only-of-type {\n",
       "        vertical-align: middle;\n",
       "    }\n",
       "\n",
       "    .dataframe tbody tr th {\n",
       "        vertical-align: top;\n",
       "    }\n",
       "\n",
       "    .dataframe thead th {\n",
       "        text-align: right;\n",
       "    }\n",
       "</style>\n",
       "<table border=\"1\" class=\"dataframe\">\n",
       "  <thead>\n",
       "    <tr style=\"text-align: right;\">\n",
       "      <th></th>\n",
       "      <th>zip_code</th>\n",
       "      <th>y-2016</th>\n",
       "      <th>y-2015</th>\n",
       "      <th>y-2014</th>\n",
       "      <th>y-2013</th>\n",
       "      <th>y-2012</th>\n",
       "      <th>y-2011</th>\n",
       "      <th>y-2010</th>\n",
       "      <th>aggregate</th>\n",
       "    </tr>\n",
       "  </thead>\n",
       "  <tbody>\n",
       "    <tr>\n",
       "      <th>33115</th>\n",
       "      <td>99923</td>\n",
       "      <td>0</td>\n",
       "      <td>13</td>\n",
       "      <td>12</td>\n",
       "      <td>81</td>\n",
       "      <td>77</td>\n",
       "      <td>116</td>\n",
       "      <td>87</td>\n",
       "      <td>386</td>\n",
       "    </tr>\n",
       "    <tr>\n",
       "      <th>33116</th>\n",
       "      <td>99925</td>\n",
       "      <td>908</td>\n",
       "      <td>826</td>\n",
       "      <td>728</td>\n",
       "      <td>668</td>\n",
       "      <td>673</td>\n",
       "      <td>689</td>\n",
       "      <td>819</td>\n",
       "      <td>5311</td>\n",
       "    </tr>\n",
       "    <tr>\n",
       "      <th>33117</th>\n",
       "      <td>99926</td>\n",
       "      <td>1667</td>\n",
       "      <td>1711</td>\n",
       "      <td>1622</td>\n",
       "      <td>1630</td>\n",
       "      <td>1624</td>\n",
       "      <td>1488</td>\n",
       "      <td>1460</td>\n",
       "      <td>11202</td>\n",
       "    </tr>\n",
       "    <tr>\n",
       "      <th>33118</th>\n",
       "      <td>99927</td>\n",
       "      <td>81</td>\n",
       "      <td>123</td>\n",
       "      <td>131</td>\n",
       "      <td>111</td>\n",
       "      <td>75</td>\n",
       "      <td>67</td>\n",
       "      <td>94</td>\n",
       "      <td>682</td>\n",
       "    </tr>\n",
       "    <tr>\n",
       "      <th>33119</th>\n",
       "      <td>99929</td>\n",
       "      <td>2385</td>\n",
       "      <td>2365</td>\n",
       "      <td>2354</td>\n",
       "      <td>2341</td>\n",
       "      <td>2361</td>\n",
       "      <td>2321</td>\n",
       "      <td>2338</td>\n",
       "      <td>16465</td>\n",
       "    </tr>\n",
       "  </tbody>\n",
       "</table>\n",
       "</div>"
      ],
      "text/plain": [
       "       zip_code  y-2016  y-2015  y-2014  y-2013  y-2012  y-2011  y-2010  \\\n",
       "33115     99923       0      13      12      81      77     116      87   \n",
       "33116     99925     908     826     728     668     673     689     819   \n",
       "33117     99926    1667    1711    1622    1630    1624    1488    1460   \n",
       "33118     99927      81     123     131     111      75      67      94   \n",
       "33119     99929    2385    2365    2354    2341    2361    2321    2338   \n",
       "\n",
       "       aggregate  \n",
       "33115        386  \n",
       "33116       5311  \n",
       "33117      11202  \n",
       "33118        682  \n",
       "33119      16465  "
      ]
     },
     "execution_count": 8,
     "metadata": {},
     "output_type": "execute_result"
    }
   ],
   "source": [
    "data.tail()"
   ]
  },
  {
   "cell_type": "code",
   "execution_count": 9,
   "metadata": {},
   "outputs": [
    {
     "data": {
      "text/plain": [
       "(33120, 9)"
      ]
     },
     "execution_count": 9,
     "metadata": {},
     "output_type": "execute_result"
    }
   ],
   "source": [
    "data.shape"
   ]
  },
  {
   "cell_type": "code",
   "execution_count": 10,
   "metadata": {},
   "outputs": [],
   "source": [
    "data = data[data['zip_code'] <= 38589]\n"
   ]
  },
  {
   "cell_type": "code",
   "execution_count": 11,
   "metadata": {},
   "outputs": [
    {
     "data": {
      "text/plain": [
       "(12529, 9)"
      ]
     },
     "execution_count": 11,
     "metadata": {},
     "output_type": "execute_result"
    }
   ],
   "source": [
    "data.shape"
   ]
  },
  {
   "cell_type": "code",
   "execution_count": 12,
   "metadata": {},
   "outputs": [],
   "source": [
    "data = data[data['zip_code'] >= 37010]\n"
   ]
  },
  {
   "cell_type": "code",
   "execution_count": 13,
   "metadata": {},
   "outputs": [
    {
     "data": {
      "text/plain": [
       "(628, 9)"
      ]
     },
     "execution_count": 13,
     "metadata": {},
     "output_type": "execute_result"
    }
   ],
   "source": [
    "data.shape"
   ]
  },
  {
   "cell_type": "code",
   "execution_count": 14,
   "metadata": {},
   "outputs": [],
   "source": [
    "data.to_csv('./data/tn_zip_population.csv')"
   ]
  },
  {
   "cell_type": "code",
   "execution_count": null,
   "metadata": {},
   "outputs": [],
   "source": []
  }
 ],
 "metadata": {
  "kernelspec": {
   "display_name": "Python 3",
   "language": "python",
   "name": "python3"
  },
  "language_info": {
   "codemirror_mode": {
    "name": "ipython",
    "version": 3
   },
   "file_extension": ".py",
   "mimetype": "text/x-python",
   "name": "python",
   "nbconvert_exporter": "python",
   "pygments_lexer": "ipython3",
   "version": "3.7.3"
  }
 },
 "nbformat": 4,
 "nbformat_minor": 2
}
